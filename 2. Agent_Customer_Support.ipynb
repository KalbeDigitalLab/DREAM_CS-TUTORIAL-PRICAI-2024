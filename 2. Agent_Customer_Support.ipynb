{
 "cells": [
  {
   "cell_type": "markdown",
   "metadata": {},
   "source": [
    "[![Open In Colab](https://colab.research.google.com/assets/colab-badge.svg)](https://colab.research.google.com/drive/1h4zgINa0NkyBqYWGT7nBwjnaCprCRbLJ?usp=sharing)"
   ]
  },
  {
   "cell_type": "code",
   "execution_count": 1,
   "metadata": {
    "colab": {
     "base_uri": "https://localhost:8080/"
    },
    "id": "a3N9XETNRW5e",
    "outputId": "2dbefdd2-ff2f-4653-cc36-c24ecb46bea9"
   },
   "outputs": [
    {
     "name": "stdout",
     "output_type": "stream",
     "text": [
      "  Preparing metadata (setup.py) ... \u001b[?25l\u001b[?25hdone\n",
      "\u001b[2K     \u001b[90m━━━━━━━━━━━━━━━━━━━━━━━━━━━━━━━━━━━━━━━━\u001b[0m \u001b[32m67.3/67.3 kB\u001b[0m \u001b[31m3.8 MB/s\u001b[0m eta \u001b[36m0:00:00\u001b[0m\n",
      "\u001b[?25h  Installing build dependencies ... \u001b[?25l\u001b[?25hdone\n",
      "  Getting requirements to build wheel ... \u001b[?25l\u001b[?25hdone\n",
      "  Preparing metadata (pyproject.toml) ... \u001b[?25l\u001b[?25hdone\n",
      "\u001b[2K   \u001b[90m━━━━━━━━━━━━━━━━━━━━━━━━━━━━━━━━━━━━━━━━\u001b[0m \u001b[32m197.7/197.7 kB\u001b[0m \u001b[31m14.4 MB/s\u001b[0m eta \u001b[36m0:00:00\u001b[0m\n",
      "\u001b[2K   \u001b[90m━━━━━━━━━━━━━━━━━━━━━━━━━━━━━━━━━━━━━━━━\u001b[0m \u001b[32m463.0/463.0 kB\u001b[0m \u001b[31m22.4 MB/s\u001b[0m eta \u001b[36m0:00:00\u001b[0m\n",
      "\u001b[2K   \u001b[90m━━━━━━━━━━━━━━━━━━━━━━━━━━━━━━━━━━━━━━━━\u001b[0m \u001b[32m131.8/131.8 kB\u001b[0m \u001b[31m10.5 MB/s\u001b[0m eta \u001b[36m0:00:00\u001b[0m\n",
      "\u001b[2K   \u001b[90m━━━━━━━━━━━━━━━━━━━━━━━━━━━━━━━━━━━━━━━━\u001b[0m \u001b[32m615.5/615.5 kB\u001b[0m \u001b[31m33.4 MB/s\u001b[0m eta \u001b[36m0:00:00\u001b[0m\n",
      "\u001b[2K   \u001b[90m━━━━━━━━━━━━━━━━━━━━━━━━━━━━━━━━━━━━━━━━\u001b[0m \u001b[32m2.4/2.4 MB\u001b[0m \u001b[31m62.4 MB/s\u001b[0m eta \u001b[36m0:00:00\u001b[0m\n",
      "\u001b[2K   \u001b[90m━━━━━━━━━━━━━━━━━━━━━━━━━━━━━━━━━━━━━━━━\u001b[0m \u001b[32m147.8/147.8 kB\u001b[0m \u001b[31m12.8 MB/s\u001b[0m eta \u001b[36m0:00:00\u001b[0m\n",
      "\u001b[2K   \u001b[90m━━━━━━━━━━━━━━━━━━━━━━━━━━━━━━━━━━━━━━━━\u001b[0m \u001b[32m211.4/211.4 kB\u001b[0m \u001b[31m17.0 MB/s\u001b[0m eta \u001b[36m0:00:00\u001b[0m\n",
      "\u001b[2K   \u001b[90m━━━━━━━━━━━━━━━━━━━━━━━━━━━━━━━━━━━━━━━━\u001b[0m \u001b[32m70.1/70.1 kB\u001b[0m \u001b[31m5.0 MB/s\u001b[0m eta \u001b[36m0:00:00\u001b[0m\n",
      "\u001b[2K   \u001b[90m━━━━━━━━━━━━━━━━━━━━━━━━━━━━━━━━━━━━━━━━\u001b[0m \u001b[32m27.4/27.4 MB\u001b[0m \u001b[31m46.6 MB/s\u001b[0m eta \u001b[36m0:00:00\u001b[0m\n",
      "\u001b[2K   \u001b[90m━━━━━━━━━━━━━━━━━━━━━━━━━━━━━━━━━━━━━━━━\u001b[0m \u001b[32m30.5/30.5 MB\u001b[0m \u001b[31m23.0 MB/s\u001b[0m eta \u001b[36m0:00:00\u001b[0m\n",
      "\u001b[2K   \u001b[90m━━━━━━━━━━━━━━━━━━━━━━━━━━━━━━━━━━━━━━━━\u001b[0m \u001b[32m6.4/6.4 MB\u001b[0m \u001b[31m62.6 MB/s\u001b[0m eta \u001b[36m0:00:00\u001b[0m\n",
      "\u001b[2K   \u001b[90m━━━━━━━━━━━━━━━━━━━━━━━━━━━━━━━━━━━━━━━━\u001b[0m \u001b[32m55.8/55.8 kB\u001b[0m \u001b[31m4.4 MB/s\u001b[0m eta \u001b[36m0:00:00\u001b[0m\n",
      "\u001b[2K   \u001b[90m━━━━━━━━━━━━━━━━━━━━━━━━━━━━━━━━━━━━━━━━\u001b[0m \u001b[32m57.6/57.6 kB\u001b[0m \u001b[31m4.8 MB/s\u001b[0m eta \u001b[36m0:00:00\u001b[0m\n",
      "\u001b[2K   \u001b[90m━━━━━━━━━━━━━━━━━━━━━━━━━━━━━━━━━━━━━━━━\u001b[0m \u001b[32m756.0/756.0 kB\u001b[0m \u001b[31m30.3 MB/s\u001b[0m eta \u001b[36m0:00:00\u001b[0m\n",
      "\u001b[2K   \u001b[90m━━━━━━━━━━━━━━━━━━━━━━━━━━━━━━━━━━━━━━━━\u001b[0m \u001b[32m9.7/9.7 MB\u001b[0m \u001b[31m88.1 MB/s\u001b[0m eta \u001b[36m0:00:00\u001b[0m\n",
      "\u001b[2K   \u001b[90m━━━━━━━━━━━━━━━━━━━━━━━━━━━━━━━━━━━━━━━━\u001b[0m \u001b[32m14.2/14.2 MB\u001b[0m \u001b[31m86.1 MB/s\u001b[0m eta \u001b[36m0:00:00\u001b[0m\n",
      "\u001b[2K   \u001b[90m━━━━━━━━━━━━━━━━━━━━━━━━━━━━━━━━━━━━━━━━\u001b[0m \u001b[32m233.5/233.5 kB\u001b[0m \u001b[31m19.6 MB/s\u001b[0m eta \u001b[36m0:00:00\u001b[0m\n",
      "\u001b[2K   \u001b[90m━━━━━━━━━━━━━━━━━━━━━━━━━━━━━━━━━━━━━━━━\u001b[0m \u001b[32m273.8/273.8 kB\u001b[0m \u001b[31m21.4 MB/s\u001b[0m eta \u001b[36m0:00:00\u001b[0m\n",
      "\u001b[2K   \u001b[90m━━━━━━━━━━━━━━━━━━━━━━━━━━━━━━━━━━━━━━━━\u001b[0m \u001b[32m249.7/249.7 kB\u001b[0m \u001b[31m20.7 MB/s\u001b[0m eta \u001b[36m0:00:00\u001b[0m\n",
      "\u001b[2K   \u001b[90m━━━━━━━━━━━━━━━━━━━━━━━━━━━━━━━━━━━━━━━━\u001b[0m \u001b[32m94.9/94.9 kB\u001b[0m \u001b[31m8.6 MB/s\u001b[0m eta \u001b[36m0:00:00\u001b[0m\n",
      "\u001b[2K   \u001b[90m━━━━━━━━━━━━━━━━━━━━━━━━━━━━━━━━━━━━━━━━\u001b[0m \u001b[32m131.6/131.6 kB\u001b[0m \u001b[31m12.2 MB/s\u001b[0m eta \u001b[36m0:00:00\u001b[0m\n",
      "\u001b[2K   \u001b[90m━━━━━━━━━━━━━━━━━━━━━━━━━━━━━━━━━━━━━━━━\u001b[0m \u001b[32m325.2/325.2 kB\u001b[0m \u001b[31m25.7 MB/s\u001b[0m eta \u001b[36m0:00:00\u001b[0m\n",
      "\u001b[2K   \u001b[90m━━━━━━━━━━━━━━━━━━━━━━━━━━━━━━━━━━━━━━━━\u001b[0m \u001b[32m1.9/1.9 MB\u001b[0m \u001b[31m73.4 MB/s\u001b[0m eta \u001b[36m0:00:00\u001b[0m\n",
      "\u001b[2K   \u001b[90m━━━━━━━━━━━━━━━━━━━━━━━━━━━━━━━━━━━━━━━━\u001b[0m \u001b[32m44.0/44.0 kB\u001b[0m \u001b[31m3.6 MB/s\u001b[0m eta \u001b[36m0:00:00\u001b[0m\n",
      "\u001b[2K   \u001b[90m━━━━━━━━━━━━━━━━━━━━━━━━━━━━━━━━━━━━━━━━\u001b[0m \u001b[32m2.4/2.4 MB\u001b[0m \u001b[31m74.5 MB/s\u001b[0m eta \u001b[36m0:00:00\u001b[0m\n",
      "\u001b[2K   \u001b[90m━━━━━━━━━━━━━━━━━━━━━━━━━━━━━━━━━━━━━━━━\u001b[0m \u001b[32m50.4/50.4 kB\u001b[0m \u001b[31m4.3 MB/s\u001b[0m eta \u001b[36m0:00:00\u001b[0m\n",
      "\u001b[2K   \u001b[90m━━━━━━━━━━━━━━━━━━━━━━━━━━━━━━━━━━━━━━━━\u001b[0m \u001b[32m79.6/79.6 kB\u001b[0m \u001b[31m7.4 MB/s\u001b[0m eta \u001b[36m0:00:00\u001b[0m\n",
      "\u001b[2K   \u001b[90m━━━━━━━━━━━━━━━━━━━━━━━━━━━━━━━━━━━━━━━━\u001b[0m \u001b[32m93.2/93.2 kB\u001b[0m \u001b[31m8.7 MB/s\u001b[0m eta \u001b[36m0:00:00\u001b[0m\n",
      "\u001b[2K   \u001b[90m━━━━━━━━━━━━━━━━━━━━━━━━━━━━━━━━━━━━━━━━\u001b[0m \u001b[32m13.3/13.3 MB\u001b[0m \u001b[31m82.4 MB/s\u001b[0m eta \u001b[36m0:00:00\u001b[0m\n",
      "\u001b[2K   \u001b[90m━━━━━━━━━━━━━━━━━━━━━━━━━━━━━━━━━━━━━━━━\u001b[0m \u001b[32m54.4/54.4 kB\u001b[0m \u001b[31m4.7 MB/s\u001b[0m eta \u001b[36m0:00:00\u001b[0m\n",
      "\u001b[2K   \u001b[90m━━━━━━━━━━━━━━━━━━━━━━━━━━━━━━━━━━━━━━━━\u001b[0m \u001b[32m298.0/298.0 kB\u001b[0m \u001b[31m23.3 MB/s\u001b[0m eta \u001b[36m0:00:00\u001b[0m\n",
      "\u001b[2K   \u001b[90m━━━━━━━━━━━━━━━━━━━━━━━━━━━━━━━━━━━━━━━━\u001b[0m \u001b[32m71.1/71.1 kB\u001b[0m \u001b[31m5.1 MB/s\u001b[0m eta \u001b[36m0:00:00\u001b[0m\n",
      "\u001b[2K   \u001b[90m━━━━━━━━━━━━━━━━━━━━━━━━━━━━━━━━━━━━━━━━\u001b[0m \u001b[32m3.1/3.1 MB\u001b[0m \u001b[31m77.7 MB/s\u001b[0m eta \u001b[36m0:00:00\u001b[0m\n",
      "\u001b[2K   \u001b[90m━━━━━━━━━━━━━━━━━━━━━━━━━━━━━━━━━━━━━━━━\u001b[0m \u001b[32m1.1/1.1 MB\u001b[0m \u001b[31m54.8 MB/s\u001b[0m eta \u001b[36m0:00:00\u001b[0m\n",
      "\u001b[2K   \u001b[90m━━━━━━━━━━━━━━━━━━━━━━━━━━━━━━━━━━━━━━━━\u001b[0m \u001b[32m481.7/481.7 kB\u001b[0m \u001b[31m32.1 MB/s\u001b[0m eta \u001b[36m0:00:00\u001b[0m\n",
      "\u001b[2K   \u001b[90m━━━━━━━━━━━━━━━━━━━━━━━━━━━━━━━━━━━━━━━━\u001b[0m \u001b[32m63.7/63.7 kB\u001b[0m \u001b[31m5.8 MB/s\u001b[0m eta \u001b[36m0:00:00\u001b[0m\n",
      "\u001b[2K   \u001b[90m━━━━━━━━━━━━━━━━━━━━━━━━━━━━━━━━━━━━━━━━\u001b[0m \u001b[32m3.1/3.1 MB\u001b[0m \u001b[31m85.1 MB/s\u001b[0m eta \u001b[36m0:00:00\u001b[0m\n",
      "\u001b[2K   \u001b[90m━━━━━━━━━━━━━━━━━━━━━━━━━━━━━━━━━━━━━━━━\u001b[0m \u001b[32m442.1/442.1 kB\u001b[0m \u001b[31m30.0 MB/s\u001b[0m eta \u001b[36m0:00:00\u001b[0m\n",
      "\u001b[2K   \u001b[90m━━━━━━━━━━━━━━━━━━━━━━━━━━━━━━━━━━━━━━━━\u001b[0m \u001b[32m1.6/1.6 MB\u001b[0m \u001b[31m66.5 MB/s\u001b[0m eta \u001b[36m0:00:00\u001b[0m\n",
      "\u001b[2K   \u001b[90m━━━━━━━━━━━━━━━━━━━━━━━━━━━━━━━━━━━━━━━━\u001b[0m \u001b[32m209.0/209.0 kB\u001b[0m \u001b[31m17.7 MB/s\u001b[0m eta \u001b[36m0:00:00\u001b[0m\n",
      "\u001b[2K   \u001b[90m━━━━━━━━━━━━━━━━━━━━━━━━━━━━━━━━━━━━━━━━\u001b[0m \u001b[32m316.6/316.6 kB\u001b[0m \u001b[31m23.9 MB/s\u001b[0m eta \u001b[36m0:00:00\u001b[0m\n",
      "\u001b[2K   \u001b[90m━━━━━━━━━━━━━━━━━━━━━━━━━━━━━━━━━━━━━━━━\u001b[0m \u001b[32m267.2/267.2 kB\u001b[0m \u001b[31m20.2 MB/s\u001b[0m eta \u001b[36m0:00:00\u001b[0m\n",
      "\u001b[2K   \u001b[90m━━━━━━━━━━━━━━━━━━━━━━━━━━━━━━━━━━━━━━━━\u001b[0m \u001b[32m73.3/73.3 kB\u001b[0m \u001b[31m6.5 MB/s\u001b[0m eta \u001b[36m0:00:00\u001b[0m\n",
      "\u001b[2K   \u001b[90m━━━━━━━━━━━━━━━━━━━━━━━━━━━━━━━━━━━━━━━━\u001b[0m \u001b[32m3.8/3.8 MB\u001b[0m \u001b[31m85.6 MB/s\u001b[0m eta \u001b[36m0:00:00\u001b[0m\n",
      "\u001b[2K   \u001b[90m━━━━━━━━━━━━━━━━━━━━━━━━━━━━━━━━━━━━━━━━\u001b[0m \u001b[32m425.7/425.7 kB\u001b[0m \u001b[31m26.6 MB/s\u001b[0m eta \u001b[36m0:00:00\u001b[0m\n",
      "\u001b[2K   \u001b[90m━━━━━━━━━━━━━━━━━━━━━━━━━━━━━━━━━━━━━━━━\u001b[0m \u001b[32m168.2/168.2 kB\u001b[0m \u001b[31m13.6 MB/s\u001b[0m eta \u001b[36m0:00:00\u001b[0m\n",
      "\u001b[2K   \u001b[90m━━━━━━━━━━━━━━━━━━━━━━━━━━━━━━━━━━━━━━━━\u001b[0m \u001b[32m46.0/46.0 kB\u001b[0m \u001b[31m3.7 MB/s\u001b[0m eta \u001b[36m0:00:00\u001b[0m\n",
      "\u001b[2K   \u001b[90m━━━━━━━━━━━━━━━━━━━━━━━━━━━━━━━━━━━━━━━━\u001b[0m \u001b[32m78.6/78.6 kB\u001b[0m \u001b[31m7.2 MB/s\u001b[0m eta \u001b[36m0:00:00\u001b[0m\n",
      "\u001b[2K   \u001b[90m━━━━━━━━━━━━━━━━━━━━━━━━━━━━━━━━━━━━━━━━\u001b[0m \u001b[32m2.4/2.4 MB\u001b[0m \u001b[31m74.2 MB/s\u001b[0m eta \u001b[36m0:00:00\u001b[0m\n",
      "\u001b[2K   \u001b[90m━━━━━━━━━━━━━━━━━━━━━━━━━━━━━━━━━━━━━━━━\u001b[0m \u001b[32m5.9/5.9 MB\u001b[0m \u001b[31m12.5 MB/s\u001b[0m eta \u001b[36m0:00:00\u001b[0m\n",
      "\u001b[2K   \u001b[90m━━━━━━━━━━━━━━━━━━━━━━━━━━━━━━━━━━━━━━━━\u001b[0m \u001b[32m86.8/86.8 kB\u001b[0m \u001b[31m6.4 MB/s\u001b[0m eta \u001b[36m0:00:00\u001b[0m\n",
      "\u001b[2K   \u001b[90m━━━━━━━━━━━━━━━━━━━━━━━━━━━━━━━━━━━━━━━━\u001b[0m \u001b[32m49.5/49.5 kB\u001b[0m \u001b[31m4.3 MB/s\u001b[0m eta \u001b[36m0:00:00\u001b[0m\n",
      "\u001b[2K   \u001b[90m━━━━━━━━━━━━━━━━━━━━━━━━━━━━━━━━━━━━━━━━\u001b[0m \u001b[32m57.5/57.5 kB\u001b[0m \u001b[31m4.9 MB/s\u001b[0m eta \u001b[36m0:00:00\u001b[0m\n",
      "\u001b[?25h  Building wheel for docx2txt (setup.py) ... \u001b[?25l\u001b[?25hdone\n",
      "  Building wheel for pypika (pyproject.toml) ... \u001b[?25l\u001b[?25hdone\n",
      "\u001b[31mERROR: pip's dependency resolver does not currently take into account all the packages that are installed. This behaviour is the source of the following dependency conflicts.\n",
      "tensorflow 2.17.1 requires protobuf!=4.21.0,!=4.21.1,!=4.21.2,!=4.21.3,!=4.21.4,!=4.21.5,<5.0.0dev,>=3.20.3, but you have protobuf 5.28.3 which is incompatible.\n",
      "tensorflow-metadata 1.13.1 requires protobuf<5,>=3.20.3, but you have protobuf 5.28.3 which is incompatible.\u001b[0m\u001b[31m\n",
      "\u001b[0m"
     ]
    }
   ],
   "source": [
    "!pip3 install -q crewai crewai_tools"
   ]
  },
  {
   "cell_type": "code",
   "execution_count": 2,
   "metadata": {
    "id": "Ia3k_yoGRVLo"
   },
   "outputs": [],
   "source": [
    "# Warning control\n",
    "import warnings\n",
    "warnings.filterwarnings('ignore')"
   ]
  },
  {
   "cell_type": "code",
   "execution_count": 3,
   "metadata": {
    "id": "HtgXij25RVLp"
   },
   "outputs": [],
   "source": [
    "from crewai import Agent, Task, Crew"
   ]
  },
  {
   "cell_type": "code",
   "execution_count": 4,
   "metadata": {
    "id": "RMtuirA3R8AE"
   },
   "outputs": [],
   "source": [
    "# Add your utilities or helper functions to this file.\n",
    "\n",
    "import os\n",
    "from dotenv import load_dotenv, find_dotenv\n",
    "\n",
    "# these expect to find a .env file at the directory above the lesson.                                                                                                                     # the format for that file is (without the comment)                                                                                                                                       #API_KEYNAME=AStringThatIsTheLongAPIKeyFromSomeService\n",
    "def load_env():\n",
    "    _ = load_dotenv(find_dotenv())\n",
    "\n",
    "def get_openai_api_key():\n",
    "    load_env()\n",
    "    openai_api_key = os.getenv(\"OPENAI_API_KEY\")\n",
    "    return openai_api_key\n",
    "\n",
    "def get_serper_api_key():\n",
    "    load_env()\n",
    "    openai_api_key = os.getenv(\"SERPER_API_KEY\")\n",
    "    return openai_api_key\n",
    "\n",
    "\n",
    "# break line every 80 characters if line is longer than 80 characters\n",
    "# don't break in the middle of a word\n",
    "def pretty_print_result(result):\n",
    "  parsed_result = []\n",
    "  for line in result.split('\\n'):\n",
    "      if len(line) > 80:\n",
    "          words = line.split(' ')\n",
    "          new_line = ''\n",
    "          for word in words:\n",
    "              if len(new_line) + len(word) + 1 > 80:\n",
    "                  parsed_result.append(new_line)\n",
    "                  new_line = word\n",
    "              else:\n",
    "                  if new_line == '':\n",
    "                      new_line = word\n",
    "                  else:\n",
    "                      new_line += ' ' + word\n",
    "          parsed_result.append(new_line)\n",
    "      else:\n",
    "          parsed_result.append(line)\n",
    "  return \"\\n\".join(parsed_result)\n"
   ]
  },
  {
   "cell_type": "code",
   "execution_count": 5,
   "metadata": {
    "id": "dfKFhMF2RVLp"
   },
   "outputs": [],
   "source": [
    "import os\n",
    "\n",
    "openai_api_key = get_openai_api_key()\n",
    "os.environ[\"OPENAI_MODEL_NAME\"] = 'gpt-4o'\n",
    "os.environ[\"OPENAI_API_KEY\"] = openai_api_key"
   ]
  },
  {
   "cell_type": "markdown",
   "metadata": {
    "id": "zTxAUpycRVLp"
   },
   "source": [
    "# Create Customer Support Agent"
   ]
  },
  {
   "cell_type": "code",
   "execution_count": 6,
   "metadata": {
    "id": "e8HcsRHkRVLq"
   },
   "outputs": [],
   "source": [
    "support_agent = Agent(\n",
    "    role=\"Senior Support Representative\",\n",
    "\tgoal=\"Be the most friendly and helpful \"\n",
    "        \"support representative in your team\",\n",
    "\tbackstory=(\n",
    "\t\t\"You work as a PRICAI 2024 Organizer (https://pricai.org/2024/index.php) and \"\n",
    "        \" are now working on providing \"\n",
    "\t\t\"support to {customer}, a super important customer or audience \"\n",
    "        \" for your conference.\"\n",
    "\t\t\"You need to make sure that you provide the best support!\"\n",
    "\t\t\"Make sure to provide full complete answers, \"\n",
    "        \" and make no assumptions.\"\n",
    "\t),\n",
    "\tallow_delegation=False,\n",
    "\tverbose=True\n",
    ")"
   ]
  },
  {
   "cell_type": "markdown",
   "metadata": {
    "id": "I1a8plUZRVLq"
   },
   "source": [
    "# Define Tools"
   ]
  },
  {
   "cell_type": "code",
   "execution_count": 8,
   "metadata": {
    "id": "G2Dq_My0RVLq"
   },
   "outputs": [],
   "source": [
    "from crewai_tools import SerperDevTool, \\\n",
    "                         ScrapeWebsiteTool, \\\n",
    "                         WebsiteSearchTool"
   ]
  },
  {
   "cell_type": "code",
   "execution_count": 9,
   "metadata": {
    "id": "4XFsg9ZYRVLr"
   },
   "outputs": [],
   "source": [
    "docs_scrape_tool = ScrapeWebsiteTool(\n",
    "    website_url=\"https://pricai.org/2024/index.php/calls/call-for-tutorials2\"\n",
    ")"
   ]
  },
  {
   "cell_type": "markdown",
   "metadata": {
    "id": "VATJ6X-IRVLr"
   },
   "source": [
    "# Define Task"
   ]
  },
  {
   "cell_type": "code",
   "execution_count": 10,
   "metadata": {
    "id": "PRG9_5rVRVLr"
   },
   "outputs": [],
   "source": [
    "inquiry_resolution = Task(\n",
    "    description=(\n",
    "        \"{customer} just reached out with a super important ask:\\n\"\n",
    "\t    \"{inquiry}\\n\\n\"\n",
    "        \"{person} from {customer} is the one that reached out. \"\n",
    "\t\t\"Make sure to use everything you know \"\n",
    "        \"to provide the best support possible.\"\n",
    "\t\t\"You must strive to provide a complete \"\n",
    "        \"and accurate response to the customer's inquiry.\"\n",
    "    ),\n",
    "    expected_output=(\n",
    "\t    \"A detailed, informative response to the \"\n",
    "        \"customer's inquiry that addresses \"\n",
    "        \"all aspects of their question.\\n\"\n",
    "        \"The response should include references \"\n",
    "        \"to everything you used to find the answer, \"\n",
    "        \"including external data or solutions. \"\n",
    "        \"Ensure the answer is complete, \"\n",
    "\t\t\"leaving no questions unanswered, and maintain a helpful and friendly \"\n",
    "\t\t\"tone throughout.\"\n",
    "    ),\n",
    "\ttools=[docs_scrape_tool],\n",
    "    agent=support_agent,\n",
    ")"
   ]
  },
  {
   "cell_type": "markdown",
   "metadata": {
    "id": "shp5dI0qRVLr"
   },
   "source": [
    "# Combine"
   ]
  },
  {
   "cell_type": "code",
   "execution_count": 11,
   "metadata": {
    "id": "InIz3cZXRVLr"
   },
   "outputs": [],
   "source": [
    "crew = Crew(\n",
    "  agents=[support_agent],\n",
    "  tasks=[inquiry_resolution],\n",
    "  verbose=True,\n",
    "  memory=True\n",
    ")"
   ]
  },
  {
   "cell_type": "code",
   "execution_count": 12,
   "metadata": {
    "colab": {
     "base_uri": "https://localhost:8080/"
    },
    "id": "rSiJCLaBRVLr",
    "outputId": "bd370c5b-fd4c-4bf8-b5cc-949367e9f3a2"
   },
   "outputs": [
    {
     "name": "stdout",
     "output_type": "stream",
     "text": [
      "\u001b[1m\u001b[95m# Agent:\u001b[00m \u001b[1m\u001b[92mSenior Support Representative\u001b[00m\n",
      "\u001b[95m## Task:\u001b[00m \u001b[92mKalbe Digital Lab just reached out with a super important ask:\n",
      "I need know about PRICAI 2024 conference, specificallycan you explain detail information regarding call for tutorials?\n",
      "\n",
      "Adhi Setiawan from Kalbe Digital Lab is the one that reached out. Make sure to use everything you know to provide the best support possible.You must strive to provide a complete and accurate response to the customer's inquiry.\u001b[00m\n",
      "\n",
      "\n",
      "\u001b[1m\u001b[95m# Agent:\u001b[00m \u001b[1m\u001b[92mSenior Support Representative\u001b[00m\n",
      "\u001b[95m## Thought:\u001b[00m \u001b[92mThought: To provide detailed information regarding the call for tutorials for the PRICAI 2024 conference, I need to access the specific section on the PRICAI 2024 website related to the call for tutorials.\u001b[00m\n",
      "\u001b[95m## Using tool:\u001b[00m \u001b[92mRead website content\u001b[00m\n",
      "\u001b[95m## Tool Input:\u001b[00m \u001b[92m\n",
      "\"{}\"\u001b[00m\n",
      "\u001b[95m## Tool Output:\u001b[00m \u001b[92m\n",
      "Call for Tutorials\n",
      "HOMEORGANIZATIONOrganizing Committee PC MembersCALLSCall for PapersCall For WorkshopsCall for TutorialsCall For Posters Call for SponsorshipCall for Domestic Volunteers (JP)Call for Student Scholarship ProgramSUBMISSIONSImportant DatesSubmissionsATTENDINGLocal AttractionsAccomodationsPROGRAMWorkshopsKeynote SpeakersProgram at a glanceTechnical SessionsTutorialsPanel Sessions Accepted Papers SC MeetingsREGISTRATIONReimbursement\n",
      "Call For Tutorials\n",
      "The CFT flyer has been published!\n",
      " The PRICAI-2024 organizers invite proposals for the Tutorial Program of the 21st Pacific Rim International Conference on Artificial Intelligence (PRICAI-2024). The tutorials will be held on November 18-20, 2024, in Kyoto, Japan. Anyone interested in presenting a tutorial at PRICAI2024 should submit a proposal as detailed below.\n",
      " The aim of the Tutorial Program is to provide an opportunity for researchers and practitioners to explore exciting advances in the principles and practices of AI.We believe that this type of program is essential for the cross fertilization, cohesiveness, and vitality of the AI field. The Tutorial Program promotes the continuing education of each member of the PRICAI community.\n",
      "-PRICAI-2024 Tutorials should serve one or more of the following objectives:\n",
      "Introduce researchers to major topics of research in the PRICAI community;\n",
      "Provide instruction in established practices and methodologies;\n",
      "Survey a mature area of PRICAI research or practice;\n",
      "Motivate and explain topics of emerging importance to the PRICAI community;\n",
      "Survey an area of research especially relevant for people from industry.\n",
      " The PRICAI organization will not hand out any material to attendees, but we expect tutorialists to upload their material (e.g., slides, software, etc.) online before the event. PRICAI-2024 will be on site for presenting the tutorials.\n",
      "Important Dates\n",
      "Tutorial Proposal Submission Deadline: August 26, 2024\n",
      "Notification of Acceptance: September 17, 2024\n",
      "Tutorial description on PRICAI2024 website: September 30, 2024\n",
      "Tutorial Dates: November 18-20, 2024\n",
      "Main Conference Dates: November 18-24, 2024\n",
      "All deadlines are at the end of the day specified, anywhere on Earth (UTC-12).\n",
      "Proposal Submission Requirements\n",
      " Tutorials are intended to provide an overview of the field. They should present reasonably well-established information in a balanced way. Tutorials should not be used to advocate a single avenue of research, nor should they promote a product. Tutorials can be held in either half-day, full-day, or two days.Proposals should be no more than three pages long, excluding the resumes of the presenters and the supplementary materials.\n",
      "-Tutorial proposals for PRICAI-2024 should contain the following information:\n",
      "Title of the tutorial;\n",
      "Acronym of the tutorial;\n",
      "The name and email address of the presenter(s);\n",
      "Please give a few keywords of different granularity.\n",
      "For example, a tutorial on Sentiment Analysis may include: Machine Learning, Natural Language Processing, Deep- Learning, LSTM, etc;\n",
      "Suggested duration of the tutorial: half-day, full-day, or two days. The timeline will be determined according to the demographic distribution of the participants. We will decide it together with the tutorial instructor;\n",
      "Mode of tutorial for participants: On-site;\n",
      "A brief description of the tutorial, suitable for inclusion in the conference registration brochure;\n",
      "Detailed outline of the tutorial;\n",
      "List of supplemental material augmented with samples, such as past tutorial slides and survey articles, whenever possible;\n",
      "Characterisation of the target audience for the tutorial;\n",
      "Estimated number of participants: Please estimate the audience size (large audience is not always preferable);\n",
      "Prerequisite knowledge: What knowledge is assumed of the target audience;\n",
      "Motivation on why the tutorial topic would be of interest to the PRICAI audience? What will the audience walk away with?\n",
      "A brief résumé of the presenter(s), which should include:\n",
      "Name;\n",
      "Current positions: Ph.D. Student, Postdoc, Professor, Researcher, etc.;\n",
      "Affiliation;\n",
      "Postal address;\n",
      "Phone and fax numbers;\n",
      "Email address;\n",
      "Background in the tutorial area;\n",
      "Any available example of work in the area, ideally a published tutorial-level article or presentation materials on the subject, evidence of teaching experience such as courses taught or references that address the proposer's presentation skills, and evidence of scholarship in Artificial Intelligence or Computer Science.\n",
      " The evaluation of the proposal will take into account the level of general interest for PRICAI attendees, the quality of the proposal, and the expertise and skills of the presenters. \n",
      "-The selection of the tutorials will be based upon a number of factors, including:\n",
      "The scientific and technical interest of the topics;\n",
      "The quality of the proposal;\n",
      "The need to avoid strictly overlapping tutorials;\n",
      "The unavoidable need to limit the overall number of selected tutorials.\n",
      "Responsibilities\n",
      "-For all accepted proposals, PRICAI will be responsible for:\n",
      "Providing publicity for the tutorials;\n",
      "Providing logistic support and a meeting place for the tutorials;\n",
      "Together with the organizers, determining the tutorials date and time.\n",
      "Submission Procedure\n",
      "-Proposals must be submitted as a PDF file to:   Email:  This email address is being protected from spambots. You need JavaScript enabled to view it. \n",
      " All information should be collated into one single PDF file. If it is necessary to refer to information in another format, such as video, the link to this material should be contained in the submitted PDF.\n",
      "Tutorial Chairs\n",
      "Wen Gu (Japan Advanced Institute of Science and Technology, Japan\n",
      "Sankalp Khanna (CSIRO, Australia)\n",
      "Email: This email address is being protected from spambots. You need JavaScript enabled to view it.\u001b[00m\n",
      "\n",
      "\n",
      "\u001b[1m\u001b[95m# Agent:\u001b[00m \u001b[1m\u001b[92mSenior Support Representative\u001b[00m\n",
      "\u001b[95m## Final Answer:\u001b[00m \u001b[92m\n",
      "Hi Adhi Setiawan from Kalbe Digital Lab,\n",
      "\n",
      "Thank you for reaching out with your inquiry regarding the PRICAI 2024 conference's call for tutorials. It's my pleasure to provide you with detailed information.\n",
      "\n",
      "The PRICAI-2024 organizers have announced a call for proposals for the Tutorial Program at the 21st Pacific Rim International Conference on Artificial Intelligence, to be held in Kyoto, Japan, from November 18-20, 2024. The intention behind these tutorials is to facilitate a platform where researchers and practitioners can delve into the exciting advancements within the AI principles and practices. This initiative is crucial for fostering cross-fertilization, collaboration, and the dynamism of the AI field, promoting the continuing education of the PRICAI community members.\n",
      "\n",
      "Here are the key objectives and details for the tutorials:\n",
      "\n",
      "1. **Objectives**:\n",
      "   - Introduce researchers to major research topics within the PRICAI community.\n",
      "   - Provide training in proven methodologies and practices.\n",
      "   - Survey established areas of research or practice within PRICAI.\n",
      "   - Highlight and explain emerging topics significant to the PRICAI community.\n",
      "   - Survey industries' relevant research areas.\n",
      "\n",
      "2. **Material Distribution**: \n",
      "   - The organization will not distribute materials directly to attendees. Tutorialists are encouraged to upload their materials (slides, software, etc.) online prior to the event. The in-person presentation is planned.\n",
      "\n",
      "3. **Important Dates**:\n",
      "   - Proposal Submission Deadline: August 26, 2024\n",
      "   - Notification of Acceptance: September 17, 2024\n",
      "   - Tutorial Description on Website: September 30, 2024\n",
      "   - Tutorial Dates: November 18-20, 2024\n",
      "   - Main Conference Dates: November 18-24, 2024\n",
      "\n",
      "4. **Proposal Requirements**:\n",
      "   - Tutorials should present balanced, established information and not focus solely on a single research path or product.\n",
      "   - Duration can vary between half-day, full-day, to two days.\n",
      "   - Proposals are limited to three pages, plus presenter résumés and any supplementary materials, and should include the following:\n",
      "     - Title, acronym, presenter's contact information.\n",
      "     - Relevant keywords for the tutorial topic.\n",
      "     - Suggested duration and mode (on-site).\n",
      "     - Brief description and detailed outline.\n",
      "     - Supplemental materials and target audience characterization.\n",
      "     - Prerequisite knowledge and motivation for the topic.\n",
      "\n",
      "5. **Evaluation & Selection Criteria**:\n",
      "   - Level of general interest for PRICAI attendees.\n",
      "   - Quality of the proposal and presenter expertise.\n",
      "   - Avoidance of overlapping topics and limitations on total tutorial selections.\n",
      "\n",
      "6. **Proposal Submission**:\n",
      "   - Proposals must be compiled into a single PDF file and sent to: [Email protected by JavaScript].\n",
      "\n",
      "I hope this provides the comprehensive information you need about the PRICAI 2024 call for tutorials! Should you have further questions or need additional assistance, please don't hesitate to ask.\n",
      "\n",
      "Best regards,\n",
      "\n",
      "[Your Name]  \n",
      "Senior Support Representative  \n",
      "PRICAI 2024 Conference Organizers\u001b[00m\n",
      "\n",
      "\n"
     ]
    }
   ],
   "source": [
    "inputs = {\n",
    "    \"customer\": \"Kalbe Digital Lab\",\n",
    "    \"person\": \"Adhi Setiawan\",\n",
    "    \"inquiry\": \"I need know about PRICAI 2024 conference, specifically\"\n",
    "               \"can you explain detail information regarding call for tutorials?\"\n",
    "}\n",
    "result = crew.kickoff(inputs=inputs)"
   ]
  },
  {
   "cell_type": "code",
   "execution_count": 15,
   "metadata": {
    "colab": {
     "base_uri": "https://localhost:8080/"
    },
    "id": "F3rgjs-QSelI",
    "outputId": "86c52855-42b2-4196-f69d-1b8f43fd5645"
   },
   "outputs": [
    {
     "name": "stdout",
     "output_type": "stream",
     "text": [
      "Hi Adhi Setiawan from Kalbe Digital Lab,\n",
      "\n",
      "Thank you for reaching out with your inquiry regarding the PRICAI 2024 conference's call for tutorials. It's my pleasure to provide you with detailed information.\n",
      "\n",
      "The PRICAI-2024 organizers have announced a call for proposals for the Tutorial Program at the 21st Pacific Rim International Conference on Artificial Intelligence, to be held in Kyoto, Japan, from November 18-20, 2024. The intention behind these tutorials is to facilitate a platform where researchers and practitioners can delve into the exciting advancements within the AI principles and practices. This initiative is crucial for fostering cross-fertilization, collaboration, and the dynamism of the AI field, promoting the continuing education of the PRICAI community members.\n",
      "\n",
      "Here are the key objectives and details for the tutorials:\n",
      "\n",
      "1. **Objectives**:\n",
      "   - Introduce researchers to major research topics within the PRICAI community.\n",
      "   - Provide training in proven methodologies and practices.\n",
      "   - Survey established areas of research or practice within PRICAI.\n",
      "   - Highlight and explain emerging topics significant to the PRICAI community.\n",
      "   - Survey industries' relevant research areas.\n",
      "\n",
      "2. **Material Distribution**: \n",
      "   - The organization will not distribute materials directly to attendees. Tutorialists are encouraged to upload their materials (slides, software, etc.) online prior to the event. The in-person presentation is planned.\n",
      "\n",
      "3. **Important Dates**:\n",
      "   - Proposal Submission Deadline: August 26, 2024\n",
      "   - Notification of Acceptance: September 17, 2024\n",
      "   - Tutorial Description on Website: September 30, 2024\n",
      "   - Tutorial Dates: November 18-20, 2024\n",
      "   - Main Conference Dates: November 18-24, 2024\n",
      "\n",
      "4. **Proposal Requirements**:\n",
      "   - Tutorials should present balanced, established information and not focus solely on a single research path or product.\n",
      "   - Duration can vary between half-day, full-day, to two days.\n",
      "   - Proposals are limited to three pages, plus presenter résumés and any supplementary materials, and should include the following:\n",
      "     - Title, acronym, presenter's contact information.\n",
      "     - Relevant keywords for the tutorial topic.\n",
      "     - Suggested duration and mode (on-site).\n",
      "     - Brief description and detailed outline.\n",
      "     - Supplemental materials and target audience characterization.\n",
      "     - Prerequisite knowledge and motivation for the topic.\n",
      "\n",
      "5. **Evaluation & Selection Criteria**:\n",
      "   - Level of general interest for PRICAI attendees.\n",
      "   - Quality of the proposal and presenter expertise.\n",
      "   - Avoidance of overlapping topics and limitations on total tutorial selections.\n",
      "\n",
      "6. **Proposal Submission**:\n",
      "   - Proposals must be compiled into a single PDF file and sent to: [Email protected by JavaScript].\n",
      "\n",
      "I hope this provides the comprehensive information you need about the PRICAI 2024 call for tutorials! Should you have further questions or need additional assistance, please don't hesitate to ask.\n",
      "\n",
      "Best regards,\n",
      "\n",
      "[Your Name]  \n",
      "Senior Support Representative  \n",
      "PRICAI 2024 Conference Organizers\n"
     ]
    }
   ],
   "source": [
    "def extract_markdown_from_crew(content):\n",
    "    \"\"\"\n",
    "    Extracts raw markdown text from CrewOutput object.\n",
    "\n",
    "    Args:\n",
    "        content: CrewOutput object or string\n",
    "\n",
    "    Returns:\n",
    "        str: The raw markdown text\n",
    "    \"\"\"\n",
    "    try:\n",
    "        # If it's a CrewOutput object, extract the raw content\n",
    "        if hasattr(content, 'raw'):\n",
    "            return content.raw\n",
    "        # If it's already a string, return it directly\n",
    "        return str(content)\n",
    "\n",
    "    except Exception as e:\n",
    "        raise Exception(f\"Error extracting markdown: {str(e)}\")\n",
    "\n",
    "\n",
    "# Extract the markdown\n",
    "try:\n",
    "  markdown_text = extract_markdown_from_crew(result)\n",
    "  print(markdown_text)  # This will print the raw markdown text\n",
    "except Exception as e:\n",
    "  print(f\"Error: {e}\")"
   ]
  },
  {
   "cell_type": "code",
   "execution_count": null,
   "metadata": {
    "id": "7I2ZtnGLRVLs"
   },
   "outputs": [],
   "source": []
  }
 ],
 "metadata": {
  "colab": {
   "provenance": []
  },
  "kernelspec": {
   "display_name": "base",
   "language": "python",
   "name": "python3"
  },
  "language_info": {
   "codemirror_mode": {
    "name": "ipython",
    "version": 3
   },
   "file_extension": ".py",
   "mimetype": "text/x-python",
   "name": "python",
   "nbconvert_exporter": "python",
   "pygments_lexer": "ipython3",
   "version": "3.12.4"
  }
 },
 "nbformat": 4,
 "nbformat_minor": 0
}
