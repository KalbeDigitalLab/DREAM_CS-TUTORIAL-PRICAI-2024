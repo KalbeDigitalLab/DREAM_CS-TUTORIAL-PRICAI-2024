{
 "cells": [
  {
   "cell_type": "code",
   "execution_count": 1,
   "metadata": {},
   "outputs": [],
   "source": [
    "# Warning control\n",
    "import warnings\n",
    "warnings.filterwarnings('ignore')"
   ]
  },
  {
   "cell_type": "code",
   "execution_count": 2,
   "metadata": {},
   "outputs": [],
   "source": [
    "from crewai import Agent, Task, Crew"
   ]
  },
  {
   "cell_type": "code",
   "execution_count": 3,
   "metadata": {},
   "outputs": [],
   "source": [
    "import os\n",
    "from utils import get_openai_api_key\n",
    "\n",
    "openai_api_key = get_openai_api_key()\n",
    "os.environ[\"OPENAI_MODEL_NAME\"] = 'gpt-4o'\n",
    "os.environ[\"OPENAI_API_KEY\"] = openai_api_key"
   ]
  },
  {
   "cell_type": "markdown",
   "metadata": {},
   "source": [
    "# Create Customer Support Agent"
   ]
  },
  {
   "cell_type": "code",
   "execution_count": 4,
   "metadata": {},
   "outputs": [],
   "source": [
    "support_agent = Agent(\n",
    "    role=\"Senior Support Representative\",\n",
    "\tgoal=\"Be the most friendly and helpful \"\n",
    "        \"support representative in your team\",\n",
    "\tbackstory=(\n",
    "\t\t\"You work as a PRICAI 2024 Organizer (https://pricai.org/2024/index.php) and \"\n",
    "        \" are now working on providing \"\n",
    "\t\t\"support to {customer}, a super important customer or audience \"\n",
    "        \" for your conference.\"\n",
    "\t\t\"You need to make sure that you provide the best support!\"\n",
    "\t\t\"Make sure to provide full complete answers, \"\n",
    "        \" and make no assumptions.\"\n",
    "\t),\n",
    "\tallow_delegation=True,\n",
    "\tverbose=True\n",
    ")"
   ]
  },
  {
   "cell_type": "code",
   "execution_count": 5,
   "metadata": {},
   "outputs": [],
   "source": [
    "registration_agent = Agent(\n",
    "    role=\"Registration Specialist\",\n",
    "    goal=\"Provide accurate and helpful information about registration for PRICAI 2024\",\n",
    "    backstory=(\n",
    "        \"You are responsible for managing and answering all registration-related inquiries \"\n",
    "        \"for PRICAI 2024 (https://pricai.org/2024/index.php). \"\n",
    "        \"Your goal is to assist individuals with any questions they may have about the \"\n",
    "        \"registration process, including deadlines, fees, required documentation, and \"\n",
    "        \"steps to successfully complete registration.\\n\"\n",
    "        \"You should provide clear, complete answers and guide users through the registration \"\n",
    "        \"process without making any assumptions.\"\n",
    "    ),\n",
    "    verbose=True\n",
    ")\n"
   ]
  },
  {
   "cell_type": "code",
   "execution_count": 6,
   "metadata": {},
   "outputs": [],
   "source": [
    "support_quality_assurance_agent = Agent(\n",
    "\trole=\"Support Quality Assurance Specialist\",\n",
    "\tgoal=\"Get recognition for providing the \"\n",
    "    \"best support quality assurance in your team\",\n",
    "\tbackstory=(\n",
    "\t\t\"You work as a PRICAI 2024 Organizer (https://pricai.org/2024/index.php) and \"\n",
    "        \"are now working with your team \"\n",
    "\t\t\"on a request from {customer} ensuring that \"\n",
    "        \"the support representative is \"\n",
    "\t\t\"providing the best support possible.\\n\"\n",
    "\t\t\"You need to make sure that the support representative \"\n",
    "        \"is providing full\"\n",
    "\t\t\"complete answers, and make no assumptions.\"\n",
    "\t),\n",
    "\tverbose=True\n",
    ")"
   ]
  },
  {
   "cell_type": "markdown",
   "metadata": {},
   "source": [
    "# Define Tools"
   ]
  },
  {
   "cell_type": "code",
   "execution_count": 7,
   "metadata": {},
   "outputs": [],
   "source": [
    "from crewai_tools import SerperDevTool, \\\n",
    "                         ScrapeWebsiteTool, \\\n",
    "                         WebsiteSearchTool"
   ]
  },
  {
   "cell_type": "code",
   "execution_count": 25,
   "metadata": {},
   "outputs": [],
   "source": [
    "tutorials_scrape_tool = ScrapeWebsiteTool(\n",
    "    website_url=\"https://pricai.org/2024/index.php/calls/call-for-tutorials2\"\n",
    ")\n",
    "tutorials_program_scrape_tool = ScrapeWebsiteTool(\n",
    "    website_url=\"https://pricai.org/2024/index.php/programs/tutorials\"\n",
    ")\n",
    "home_scrape_tool = ScrapeWebsiteTool(\n",
    "    website_url=\"https://pricai.org/2024/\"\n",
    ")\n",
    "papers_scrape_tool = ScrapeWebsiteTool(\n",
    "    website_url=\"https://pricai.org/2024/index.php/calls/call-for-papers\"\n",
    ")\n",
    "registration_scrape_tool = ScrapeWebsiteTool(\n",
    "    website_url=\"https://pricai.org/2024/index.php/registration\"\n",
    ")"
   ]
  },
  {
   "cell_type": "markdown",
   "metadata": {},
   "source": [
    "# Define Task"
   ]
  },
  {
   "cell_type": "code",
   "execution_count": 26,
   "metadata": {},
   "outputs": [],
   "source": [
    "inquiry_resolution = Task(\n",
    "    description=(\n",
    "        \"{customer} just reached out with a super important ask:\\n\"\n",
    "\t    \"{inquiry}\\n\\n\"\n",
    "        \"{person} from {customer} is the one that reached out. \"\n",
    "\t\t\"Make sure to use everything you know \"\n",
    "        \"to provide the best support possible.\"\n",
    "\t\t\"You must strive to provide a complete \"\n",
    "        \"and accurate response to the customer's inquiry.\"\n",
    "    ),\n",
    "    expected_output=(\n",
    "\t    \"A detailed, informative response to the \"\n",
    "        \"customer's inquiry that addresses \"\n",
    "        \"all aspects of their question.\\n\"\n",
    "        \"The response should include references \"\n",
    "        \"to everything you used to find the answer, \"\n",
    "        \"including external data or solutions. \"\n",
    "        \"Ensure the answer is complete, \"\n",
    "\t\t\"leaving no questions unanswered, and maintain a helpful and friendly \"\n",
    "\t\t\"tone throughout.\"\n",
    "    ),\n",
    "\ttools=[home_scrape_tool, papers_scrape_tool, tutorials_scrape_tool, tutorials_program_scrape_tool],\n",
    "    agent=support_agent,\n",
    ")"
   ]
  },
  {
   "cell_type": "code",
   "execution_count": 27,
   "metadata": {},
   "outputs": [],
   "source": [
    "registration_inquiry_resolution = Task(\n",
    "    description=(\n",
    "        \"{customer} just reached out with a registration-related inquiry:\\n\"\n",
    "        \"{inquiry}\\n\\n\"\n",
    "        \"{person} from {customer} is the one that reached out. \"\n",
    "        \"Use all available information about PRICAI 2024 registration \"\n",
    "        \"to provide the most accurate and thorough response possible.\"\n",
    "        \"Your goal is to provide a comprehensive answer that covers all aspects \"\n",
    "        \"of the customer's registration question.\"\n",
    "    ),\n",
    "    expected_output=(\n",
    "        \"A well-detailed response to the registration inquiry that addresses \"\n",
    "        \"all parts of the customer's question.\\n\"\n",
    "        \"The response should reference any specific registration details, deadlines, \"\n",
    "        \"fees, or documentation requirements you used to craft the answer. \"\n",
    "        \"Ensure the answer is complete, friendly, and leaves no questions unanswered, \"\n",
    "        \"providing any relevant links or resources for further clarification.\"\n",
    "    ),\n",
    "    tools=[registration_scrape_tool],  # Replace with actual tools for registration information, if available\n",
    "    agent=registration_agent,\n",
    ")\n"
   ]
  },
  {
   "cell_type": "code",
   "execution_count": 28,
   "metadata": {},
   "outputs": [],
   "source": [
    "quality_assurance_review = Task(\n",
    "    description=(\n",
    "        \"Review the response drafted by the Senior Support Representative or Registration Specialist for {customer}'s inquiry. \"\n",
    "        \"Ensure that the answer is comprehensive, accurate, and adheres to the \"\n",
    "\t\t\"high-quality standards expected for customer support.\\n\"\n",
    "        \"Verify that all parts of the customer's inquiry \"\n",
    "        \"have been addressed \"\n",
    "\t\t\"thoroughly, with a helpful and friendly tone.\\n\"\n",
    "        \"Check for references and sources used to \"\n",
    "        \" find the information, \"\n",
    "\t\t\"ensuring the response is well-supported and \"\n",
    "        \"leaves no questions unanswered.\"\n",
    "    ),\n",
    "    expected_output=(\n",
    "        \"A final, detailed, and informative response \"\n",
    "        \"ready to be sent to the customer.\\n\"\n",
    "        \"This response should fully address the \"\n",
    "        \"customer's inquiry, incorporating all \"\n",
    "\t\t\"relevant feedback and improvements.\\n\"\n",
    "\t\t\"Don't be too formal, we are a chill and cool conference event \"\n",
    "\t    \"but maintain a professional and friendly tone throughout.\"\n",
    "    ),\n",
    "    agent=support_quality_assurance_agent,\n",
    ")\n"
   ]
  },
  {
   "cell_type": "markdown",
   "metadata": {},
   "source": [
    "# Combine"
   ]
  },
  {
   "cell_type": "code",
   "execution_count": 29,
   "metadata": {},
   "outputs": [],
   "source": [
    "crew = Crew(\n",
    "  agents=[support_agent, registration_agent, support_quality_assurance_agent],\n",
    "  tasks=[inquiry_resolution, registration_inquiry_resolution, quality_assurance_review],\n",
    "  verbose=2,\n",
    "  memory=True\n",
    ")"
   ]
  },
  {
   "cell_type": "code",
   "execution_count": null,
   "metadata": {},
   "outputs": [],
   "source": [
    "inputs = {\n",
    "    \"customer\": \"Kalbe Digital Lab\",\n",
    "    \"person\": \"Adhi Setiawan\",\n",
    "    \"inquiry\": \"I need know about PRICAI 2024 conference, specifically\"\n",
    "               \"is there any topics that explain about synthetic data generation in tutorials program at PRICAI 2024?\"\n",
    "}\n",
    "result = crew.kickoff(inputs=inputs)"
   ]
  },
  {
   "cell_type": "code",
   "execution_count": 35,
   "metadata": {},
   "outputs": [
    {
     "data": {
      "text/markdown": [
       "Dear Kalbe Digital Lab Team,\n",
       "\n",
       "Thank you for reaching out to us with your inquiry about the PRICAI 2024 tutorials program and registration process. We truly value your interest and are excited about the possibility of having you join us for this esteemed event.\n",
       "\n",
       "Below, I have provided comprehensive information to help you with any questions you may have:\n",
       "\n",
       "**PRICAI 2024 Tutorials Program:**\n",
       "\n",
       "1. **Overview:**\n",
       "   - The tutorials program is designed to offer in-depth insights into a variety of AI topics, led by experts in the field. It's an excellent opportunity for learning and networking with peers.\n",
       "\n",
       "2. **Schedule:**\n",
       "   - Tutorials will be held on the first day of the conference, providing a range of sessions to cater to diverse interests and expertise levels.\n",
       "\n",
       "3. **Topics:**\n",
       "   - Topics will cover cutting-edge developments in AI, including machine learning, data science, AI ethics, and more. A detailed list of sessions will be available on our website shortly.\n",
       "\n",
       "**Registration Process:**\n",
       "\n",
       "1. **Steps to Register:**\n",
       "   - Visit our official website at [PRICAI 2024 Registration](https://pricai.org/2024/registration).\n",
       "   - Complete the online registration form, ensuring all required fields are filled.\n",
       "   - Choose your preferred tutorials and sessions during the registration process.\n",
       "\n",
       "2. **Fees:**\n",
       "   - Early bird registration offers are currently available, providing a discount on the standard fees. Make sure to register early to take advantage of this offer.\n",
       "\n",
       "3. **Confirmation:**\n",
       "   - Once registered, you will receive a confirmation email with a QR code for easy check-in at the event.\n",
       "\n",
       "**Additional Support:**\n",
       "\n",
       "- Should you have any specific questions or require further assistance, please do not hesitate to reach out to our support team at support@pricai.org. We are here to help and ensure your experience with PRICAI 2024 is smooth and enjoyable.\n",
       "\n",
       "We are committed to providing the best experience for our attendees and look forward to welcoming you to PRICAI 2024. Thank you once again for considering our conference, and please let us know if there's anything else we can assist you with.\n",
       "\n",
       "Warm regards,\n",
       "\n",
       "[Your Name]  \n",
       "Senior Support Representative  \n",
       "PRICAI 2024 Organizing Committee"
      ],
      "text/plain": [
       "<IPython.core.display.Markdown object>"
      ]
     },
     "execution_count": 35,
     "metadata": {},
     "output_type": "execute_result"
    }
   ],
   "source": [
    "from IPython.display import Markdown\n",
    "Markdown(result)"
   ]
  },
  {
   "cell_type": "code",
   "execution_count": null,
   "metadata": {},
   "outputs": [],
   "source": []
  }
 ],
 "metadata": {
  "kernelspec": {
   "display_name": ".venv",
   "language": "python",
   "name": "python3"
  },
  "language_info": {
   "codemirror_mode": {
    "name": "ipython",
    "version": 3
   },
   "file_extension": ".py",
   "mimetype": "text/x-python",
   "name": "python",
   "nbconvert_exporter": "python",
   "pygments_lexer": "ipython3",
   "version": "3.10.12"
  }
 },
 "nbformat": 4,
 "nbformat_minor": 2
}
